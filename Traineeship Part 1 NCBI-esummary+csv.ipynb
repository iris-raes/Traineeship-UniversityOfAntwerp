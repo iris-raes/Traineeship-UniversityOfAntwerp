{
 "cells": [
  {
   "cell_type": "markdown",
   "metadata": {},
   "source": [
    "**Traineeship Part 1: Data collection using NCBI eUtils and esummary (+ generates csv files)** \n",
    "\n",
    "**Author: Iris Raes**             \n",
    "\n",
    "**The University of Antwerp, Medical Biochemistry, Campus Drie Eiken**"
   ]
  },
  {
   "cell_type": "markdown",
   "metadata": {},
   "source": [
    "#### *Loading required packages*"
   ]
  },
  {
   "cell_type": "code",
   "execution_count": null,
   "metadata": {},
   "outputs": [],
   "source": [
    "# pip3 install --user eutils\n",
    "from eutils import Client\n",
    "from Bio import Entrez\n",
    "import csv"
   ]
  },
  {
   "cell_type": "markdown",
   "metadata": {},
   "source": [
    "#### *Personal API-key*"
   ]
  },
  {
   "cell_type": "code",
   "execution_count": null,
   "metadata": {},
   "outputs": [],
   "source": [
    "eclient = Client(api_key=\"8ecce891e7fa036ff84bccc7c74e5138dc09\")"
   ]
  },
  {
   "cell_type": "markdown",
   "metadata": {},
   "source": [
    "-----------------------------------------------------------------"
   ]
  },
  {
   "cell_type": "markdown",
   "metadata": {},
   "source": [
    "#### 1) Entrez Nucleotide Search - mRNA Transcript Variants"
   ]
  },
  {
   "cell_type": "code",
   "execution_count": null,
   "metadata": {},
   "outputs": [],
   "source": [
    "### Creating query  \n",
    "mRNAtranscripts = []\n",
    "transcriptmRNA_esearch = eclient.esearch(db='nucleotide',\n",
    "            term='DPP8[gene] AND \"Homo sapiens\"[Primary Organism] AND (biomol_mrna[PROP] AND refseq[filter])')\n",
    "print(\"\\nLoading currently available ids from Entrez nucleotide...\")\n",
    "print(\"=\"*50)\n",
    "print(\"\\nTranscript variant ids: \")\n",
    "print(transcriptmRNA_esearch.ids)\n",
    "for item in transcriptmRNA_esearch.ids:\n",
    "    mRNAtranscripts.append(item)\n",
    "print(\"\\nSearch results: {}\\n\".format(transcriptmRNA_esearch.count))"
   ]
  },
  {
   "cell_type": "code",
   "execution_count": null,
   "metadata": {},
   "outputs": [],
   "source": [
    "### Esummary for retrieving information\n",
    "Entrez.email = \"iris.raes@hotmail.com\"\n",
    "### For each id in mRNAtranscripts\n",
    "### Save data in csv file\n",
    "with open('results-nucleotide.csv', mode='w') as result_nucleotide:\n",
    "    result_writer = csv.writer(result_nucleotide,delimiter=';')\n",
    "    result_writer.writerow([\"transcript_id\",\"description\",\"transcript_variant\",\"accession\",\"length_in_bp\"])\n",
    "    counter = 1\n",
    "    for ids in mRNAtranscripts:\n",
    "        handle = Entrez.esummary(db=\"nucleotide\", id=ids)\n",
    "        record = Entrez.read(handle)\n",
    "        handle.close()\n",
    "        ### Write info to csv file, row by row\n",
    "        splittedtitle = record[0][\"Title\"].split(\",\")\n",
    "        print(splittedtitle)\n",
    "        result_writer.writerow([record[0][\"Id\"],splittedtitle[0],splittedtitle[1],record[0][\"AccessionVersion\"],record[0][\"Length\"]])\n",
    "        ###\n",
    "        counter += 1\n",
    "### Close csv file\n",
    "result_nucleotide.close()"
   ]
  },
  {
   "cell_type": "markdown",
   "metadata": {},
   "source": [
    "#### 2) dbVar Search -  Pathogenic Copy Number Variation in Human"
   ]
  },
  {
   "cell_type": "code",
   "execution_count": null,
   "metadata": {},
   "outputs": [],
   "source": [
    "### Creating query \n",
    "CNV = []\n",
    "CNV_esearch = eclient.esearch(db='dbVar',\n",
    "            term='DPP8[All Fields] AND (\"Homo sapiens\"[Organism] AND \"copy number variation\"[Variant Type] AND \"Pathogenic\"[clinical_interpretation])')\n",
    "print(\"\\nLoading currently available ids from dbVar...\")\n",
    "print(\"=\"*50)\n",
    "print(\"dbVar ids: \")\n",
    "print(CNV_esearch.ids)\n",
    "for item in CNV_esearch.ids:\n",
    "    CNV.append(item)\n",
    "print(\"\\nSearch results: {}\\n\".format(CNV_esearch.count))"
   ]
  },
  {
   "cell_type": "code",
   "execution_count": null,
   "metadata": {},
   "outputs": [],
   "source": [
    "### Esummary for retrieving information\n",
    "Entrez.email = \"iris.raes@hotmail.com\"\n",
    "### For each id in CNV\n",
    "### Save data in csv file\n",
    "with open('results-CNV-dbVar.csv', mode='w') as result_CNV:\n",
    "    result_writer = csv.writer(result_CNV,delimiter=';')\n",
    "    result_writer.writerow([\"CNV_variant_id\",\"variant_region_id\",\"type\",\"study_ID\",\"clinical_assertion\",\"assembly1\",\"assembly2\"])\n",
    "    counter = 1\n",
    "    for ids in CNV:\n",
    "        handle = Entrez.esummary(db=\"dbVar\", id=ids)\n",
    "        record = Entrez.read(handle)\n",
    "        handle.close()\n",
    "        varregid = record['DocumentSummarySet']['DocumentSummary'][0].get('SV')\n",
    "        types = record['DocumentSummarySet']['DocumentSummary'][0].get('dbVarVariantTypeList')\n",
    "        studyid = record['DocumentSummarySet']['DocumentSummary'][0].get('ST')\n",
    "        clinicalassertion = record['DocumentSummarySet']['DocumentSummary'][0].get('dbVarClinicalSignificanceList')\n",
    "        if record['DocumentSummarySet']['DocumentSummary'][0]['dbVarPlacementList'] != []:\n",
    "            assembly1 = record['DocumentSummarySet']['DocumentSummary'][0]['dbVarPlacementList'][0].get('Assembly')\n",
    "            start1 = record['DocumentSummarySet']['DocumentSummary'][0]['dbVarPlacementList'][0].get('Chr_start')\n",
    "            end1 = record['DocumentSummarySet']['DocumentSummary'][0]['dbVarPlacementList'][0].get('Chr_end')\n",
    "            assembly2 = record['DocumentSummarySet']['DocumentSummary'][0]['dbVarPlacementList'][1].get('Assembly')\n",
    "            start2 = record['DocumentSummarySet']['DocumentSummary'][0]['dbVarPlacementList'][1].get('Chr_start')\n",
    "            end2 = record['DocumentSummarySet']['DocumentSummary'][0]['dbVarPlacementList'][1].get('Chr_end')\n",
    "        ### Write info to csv file, row by row\n",
    "        result_writer.writerow([ids,varregid,types,studyid,clinicalassertion,assembly1+\":\"+start1+\"-\"+end1,assembly2+\":\"+start2+\"-\"+end2])\n",
    "        ###\n",
    "        counter += 1\n",
    "### Close csv file\n",
    "result_CNV.close()"
   ]
  },
  {
   "cell_type": "markdown",
   "metadata": {},
   "source": [
    "#### 3) dbVar Search -  Insertions in Human"
   ]
  },
  {
   "cell_type": "code",
   "execution_count": null,
   "metadata": {},
   "outputs": [],
   "source": [
    "### Creating query \n",
    "insertion_esearch = eclient.esearch(db='dbVar',\n",
    "            term='DPP8[All Fields] AND (\"Homo sapiens\"[Organism] AND \"insertion\"[Variant Type])')\n",
    "print(\"\\nLoading currently available ids from dbVar...\")\n",
    "print(\"=\"*50)\n",
    "print(\"dbVar ids: \")\n",
    "print(insertion_esearch.ids)\n",
    "print(\"\\nSearch results: {}\\n\".format(insertion_esearch.count))"
   ]
  },
  {
   "cell_type": "code",
   "execution_count": null,
   "metadata": {},
   "outputs": [],
   "source": [
    "### Esummary for retrieving information\n",
    "Entrez.email = \"iris.raes@hotmail.com\"\n",
    "### For each id in insertion\n",
    "### Save data in csv file\n",
    "with open('results-insertion-dbVar.csv', mode='w') as result_insertion:\n",
    "    result_writer = csv.writer(result_insertion,delimiter=';')\n",
    "    result_writer.writerow([\"insertion_variant_id\",\"variant_region_id\",\"type\",\"study_ID\",\"assembly1\",\"assembly2\"])\n",
    "    counter = 1\n",
    "    for ids in insertion:\n",
    "        handle = Entrez.esummary(db=\"dbVar\", id=ids)\n",
    "        record = Entrez.read(handle)\n",
    "        handle.close()\n",
    "        varregid = record['DocumentSummarySet']['DocumentSummary'][0].get('SV')\n",
    "        types = record['DocumentSummarySet']['DocumentSummary'][0].get('dbVarVariantTypeList')\n",
    "        studyid = record['DocumentSummarySet']['DocumentSummary'][0].get('ST')\n",
    "        if record['DocumentSummarySet']['DocumentSummary'][0]['dbVarPlacementList'] != []:\n",
    "            assembly1 = record['DocumentSummarySet']['DocumentSummary'][0]['dbVarPlacementList'][0].get('Assembly')\n",
    "            start1 = record['DocumentSummarySet']['DocumentSummary'][0]['dbVarPlacementList'][0].get('Chr_start')\n",
    "            end1 = record['DocumentSummarySet']['DocumentSummary'][0]['dbVarPlacementList'][0].get('Chr_end')\n",
    "            assembly2 = record['DocumentSummarySet']['DocumentSummary'][0]['dbVarPlacementList'][1].get('Assembly')\n",
    "            start2 = record['DocumentSummarySet']['DocumentSummary'][0]['dbVarPlacementList'][1].get('Chr_start')\n",
    "            end2 = record['DocumentSummarySet']['DocumentSummary'][0]['dbVarPlacementList'][1].get('Chr_end')\n",
    "        ### Write info to csv file, row by row\n",
    "        result_writer.writerow([ids,varregid,types,studyid,assembly1+\":\"+start1+\"-\"+end1,assembly2+\":\"+start2+\"-\"+end2])\n",
    "        ###\n",
    "        counter += 1\n",
    "### Close csv file\n",
    "result_insertion.close()"
   ]
  },
  {
   "cell_type": "markdown",
   "metadata": {},
   "source": [
    "#### 4) dbVar Search -  Inversions in Human"
   ]
  },
  {
   "cell_type": "code",
   "execution_count": null,
   "metadata": {},
   "outputs": [],
   "source": [
    "### Creating query \n",
    "inversion_esearch = eclient.esearch(db='dbVar',\n",
    "            term='DPP8[All Fields] AND (\"Homo sapiens\"[Organism] AND \"inversion\"[Variant Type])')\n",
    "print(\"\\nLoading currently available ids from dbVar...\")\n",
    "print(\"=\"*50)\n",
    "print(\"dbVar ids: \")\n",
    "print(inversion_esearch.ids)\n",
    "print(\"\\nSearch results: {}\\n\".format(inversion_esearch.count))"
   ]
  },
  {
   "cell_type": "code",
   "execution_count": null,
   "metadata": {},
   "outputs": [],
   "source": [
    "### Esummary for retrieving information\n",
    "Entrez.email = \"iris.raes@hotmail.com\"\n",
    "### For each id in inversion\n",
    "### Save data in csv file\n",
    "with open('results-inversion-dbVar.csv', mode='w') as result_inversion:\n",
    "    result_writer = csv.writer(result_inversion,delimiter=';')\n",
    "    result_writer.writerow([\"inversion_variant_id\",\"variant_region_id\",\"type\",\"study_ID\",\"assembly1\",\"assembly2\"])\n",
    "    counter = 1\n",
    "    for ids in inversion:\n",
    "        handle = Entrez.esummary(db=\"dbVar\", id=ids)\n",
    "        record = Entrez.read(handle)\n",
    "        handle.close()\n",
    "        varregid = record['DocumentSummarySet']['DocumentSummary'][0].get('SV')\n",
    "        types = record['DocumentSummarySet']['DocumentSummary'][0].get('dbVarVariantTypeList')\n",
    "        studyid = record['DocumentSummarySet']['DocumentSummary'][0].get('ST')\n",
    "        if record['DocumentSummarySet']['DocumentSummary'][0]['dbVarPlacementList'] != []:\n",
    "            assembly1 = record['DocumentSummarySet']['DocumentSummary'][0]['dbVarPlacementList'][0].get('Assembly')\n",
    "            start1 = record['DocumentSummarySet']['DocumentSummary'][0]['dbVarPlacementList'][0].get('Chr_start')\n",
    "            end1 = record['DocumentSummarySet']['DocumentSummary'][0]['dbVarPlacementList'][0].get('Chr_end')\n",
    "            assembly2 = record['DocumentSummarySet']['DocumentSummary'][0]['dbVarPlacementList'][1].get('Assembly')\n",
    "            start2 = record['DocumentSummarySet']['DocumentSummary'][0]['dbVarPlacementList'][1].get('Chr_start')\n",
    "            end2 = record['DocumentSummarySet']['DocumentSummary'][0]['dbVarPlacementList'][1].get('Chr_end')\n",
    "        ### Write info to csv file, row by row\n",
    "        result_writer.writerow([ids,varregid,types,studyid,assembly1+\":\"+start1+\"-\"+end1,assembly2+\":\"+start2+\"-\"+end2])\n",
    "        ###\n",
    "        counter += 1\n",
    "### Close csv file\n",
    "result_inversion.close()"
   ]
  },
  {
   "cell_type": "markdown",
   "metadata": {},
   "source": [
    "#### 5) dbVar Search -  Short Tandem Repeats in Human (seems to be less important)"
   ]
  },
  {
   "cell_type": "code",
   "execution_count": null,
   "metadata": {},
   "outputs": [],
   "source": [
    "### Creating query \n",
    "STR_esearch = eclient.esearch(db='dbVar',\n",
    "            term='DPP8[All Fields] AND (\"Homo sapiens\"[Organism] AND \"short tandem repeat\"[Variant Type])')\n",
    "print(\"\\nLoading currently available ids from dbVar...\")\n",
    "print(\"=\"*50)\n",
    "print(\"dbVar ids: \")\n",
    "print(STR_esearch.ids)\n",
    "print(\"\\nSearch results: {}\\n\".format(STR_esearch.count))"
   ]
  },
  {
   "cell_type": "code",
   "execution_count": null,
   "metadata": {},
   "outputs": [],
   "source": [
    "### Esummary for retrieving information\n",
    "Entrez.email = \"iris.raes@hotmail.com\"\n",
    "### For each id in STR\n",
    "### Save data in csv file\n",
    "with open('results-STR-dbVar.csv', mode='w') as result_STR:\n",
    "    result_writer = csv.writer(result_STR,delimiter=';')\n",
    "    result_writer.writerow([\"STR_variant_id\",\"variant_region_id\",\"type\",\"study_ID\",\"assembly1\",\"assembly2\"])\n",
    "    counter = 1\n",
    "    for ids in STR:\n",
    "        handle = Entrez.esummary(db=\"dbVar\", id=ids)\n",
    "        record = Entrez.read(handle)\n",
    "        handle.close()\n",
    "        varregid = record['DocumentSummarySet']['DocumentSummary'][0].get('SV')\n",
    "        types = record['DocumentSummarySet']['DocumentSummary'][0].get('dbVarVariantTypeList')\n",
    "        studyid = record['DocumentSummarySet']['DocumentSummary'][0].get('ST')\n",
    "        if record['DocumentSummarySet']['DocumentSummary'][0]['dbVarPlacementList'] != []:\n",
    "            assembly1 = record['DocumentSummarySet']['DocumentSummary'][0]['dbVarPlacementList'][0].get('Assembly')\n",
    "            start1 = record['DocumentSummarySet']['DocumentSummary'][0]['dbVarPlacementList'][0].get('Chr_start')\n",
    "            end1 = record['DocumentSummarySet']['DocumentSummary'][0]['dbVarPlacementList'][0].get('Chr_end')\n",
    "            assembly2 = record['DocumentSummarySet']['DocumentSummary'][0]['dbVarPlacementList'][1].get('Assembly')\n",
    "            start2 = record['DocumentSummarySet']['DocumentSummary'][0]['dbVarPlacementList'][1].get('Chr_start')\n",
    "            end2 = record['DocumentSummarySet']['DocumentSummary'][0]['dbVarPlacementList'][1].get('Chr_end')\n",
    "        ### Write info to csv file, row by row\n",
    "        result_writer.writerow([ids,varregid,types,studyid,assembly1+\":\"+start1+\"-\"+end1,assembly2+\":\"+start2+\"-\"+end2])\n",
    "        ###\n",
    "        counter += 1\n",
    "### Close csv file\n",
    "result_STR.close()"
   ]
  },
  {
   "cell_type": "markdown",
   "metadata": {},
   "source": [
    "#### 6) ClinVar Search -  Genetic Variations  in Human"
   ]
  },
  {
   "cell_type": "code",
   "execution_count": null,
   "metadata": {},
   "outputs": [],
   "source": [
    "### Creating query \n",
    "ClinVar_esearch = eclient.esearch(db='ClinVar',\n",
    "            term='DPP8[gene] AND \"Single gene\"')\n",
    "print(\"\\nLoading currently available ids from ClinVar...\")\n",
    "print(\"=\"*50)\n",
    "print(\"\\nClinVar ids: \")\n",
    "print(ClinVar_esearch.ids)\n",
    "print(\"\\nSearch results: {}\\n\".format(ClinVar_esearch.count))"
   ]
  },
  {
   "cell_type": "code",
   "execution_count": null,
   "metadata": {},
   "outputs": [],
   "source": [
    "### Esummary for retrieving information\n",
    "Entrez.email = \"iris.raes@hotmail.com\"\n",
    "### For each id in ClinVar\n",
    "### Save data in csv file\n",
    "with open('results-ClinVar.csv', mode='w') as result_ClinVar:\n",
    "    result_writer = csv.writer(result_ClinVar,delimiter=';')\n",
    "    result_writer.writerow([\"ClinVar_variant_id\",\"title\",\"accession\",\"type\",\"description\",\"protein_change\",\"assembly1\",\"assembly2\",\"source_id\"])\n",
    "    counter = 1\n",
    "    for ids in ClinVar:\n",
    "        handle = Entrez.esummary(db=\"ClinVar\", id=ids)\n",
    "        record = Entrez.read(handle)\n",
    "        handle.close()\n",
    "        title = record['DocumentSummarySet']['DocumentSummary'][0].get('title')\n",
    "        accession = record['DocumentSummarySet']['DocumentSummary'][0].get('accession_version')\n",
    "        types = record['DocumentSummarySet']['DocumentSummary'][0].get('obj_type')\n",
    "        description = record['DocumentSummarySet']['DocumentSummary'][0]['clinical_significance'].get('description')\n",
    "        protein_change = record['DocumentSummarySet']['DocumentSummary'][0].get('protein_change')\n",
    "        if record['DocumentSummarySet']['DocumentSummary'][0]['variation_set'][0]['variation_loc'] != []:\n",
    "            assembly1 = record['DocumentSummarySet']['DocumentSummary'][0]['variation_set'][0]['variation_loc'][0].get('assembly_name')\n",
    "            start1 = record['DocumentSummarySet']['DocumentSummary'][0]['variation_set'][0]['variation_loc'][0].get('start')\n",
    "            end1 = record['DocumentSummarySet']['DocumentSummary'][0]['variation_set'][0]['variation_loc'][0].get('stop')\n",
    "            if record['DocumentSummarySet']['DocumentSummary'][0]['variation_set'][0].get('variation_loc') != []:\n",
    "                try:\n",
    "                    assembly2 = record['DocumentSummarySet']['DocumentSummary'][0]['variation_set'][0]['variation_loc'][1].get('assembly_name')\n",
    "                    start2 = record['DocumentSummarySet']['DocumentSummary'][0]['variation_set'][0]['variation_loc'][1].get('start')\n",
    "                    end2 = record['DocumentSummarySet']['DocumentSummary'][0]['variation_set'][0]['variation_loc'][1].get('stop')\n",
    "                except:\n",
    "                    assembly2 = \"not applicable\"\n",
    "                    start2 = \"not applicable\"\n",
    "                    end2 = \"not applicable\"\n",
    "        if record['DocumentSummarySet']['DocumentSummary'][0]['trait_set'] != []:\n",
    "            dbsource = record['DocumentSummarySet']['DocumentSummary'][0]['trait_set'][0]['trait_xrefs'][0]['db_source']\n",
    "            dbid = record['DocumentSummarySet']['DocumentSummary'][0]['trait_set'][0]['trait_xrefs'][0]['db_id']\n",
    "        ### Write info to csv file, row by row\n",
    "        result_writer.writerow([ids,title,accession,types,description,protein_change,assembly1+\":\"+start1+\"-\"+end1,assembly2+\":\"+start2+\"-\"+end2,dbsource+\" (\"+dbid+\")\"])\n",
    "        ###\n",
    "        counter += 1\n",
    "### Close csv file\n",
    "result_ClinVar.close()"
   ]
  }
 ],
 "metadata": {
  "kernelspec": {
   "display_name": "Python 3",
   "language": "python",
   "name": "python3"
  },
  "language_info": {
   "codemirror_mode": {
    "name": "ipython",
    "version": 3
   },
   "file_extension": ".py",
   "mimetype": "text/x-python",
   "name": "python",
   "nbconvert_exporter": "python",
   "pygments_lexer": "ipython3",
   "version": "3.7.6"
  }
 },
 "nbformat": 4,
 "nbformat_minor": 4
}
