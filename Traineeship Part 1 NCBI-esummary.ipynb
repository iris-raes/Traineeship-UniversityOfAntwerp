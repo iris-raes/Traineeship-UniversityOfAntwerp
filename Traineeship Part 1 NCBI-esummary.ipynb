{
 "cells": [
  {
   "cell_type": "markdown",
   "metadata": {},
   "source": [
    "**Traineeship Part 1: Data collection (ids) using NCBI eUtils and esummary** \n",
    "\n",
    "**Author: Iris Raes**             \n",
    "\n",
    "**The University of Antwerp, Medical Biochemistry, Campus Drie Eiken**"
   ]
  },
  {
   "cell_type": "markdown",
   "metadata": {},
   "source": [
    "#### *Loading required packages*"
   ]
  },
  {
   "cell_type": "code",
   "execution_count": 1,
   "metadata": {},
   "outputs": [],
   "source": [
    "# pip3 install --user eutils\n",
    "from eutils import Client\n",
    "from Bio import Entrez"
   ]
  },
  {
   "cell_type": "markdown",
   "metadata": {},
   "source": [
    "#### *Personal API-key*"
   ]
  },
  {
   "cell_type": "code",
   "execution_count": 2,
   "metadata": {},
   "outputs": [],
   "source": [
    "eclient = Client(api_key=\"8ecce891e7fa036ff84bccc7c74e5138dc09\")"
   ]
  },
  {
   "cell_type": "markdown",
   "metadata": {},
   "source": [
    "-----------------------------------------------------------------"
   ]
  },
  {
   "cell_type": "markdown",
   "metadata": {},
   "source": [
    "#### 1) Entrez Nucleotide Search - mRNA Transcript Variants"
   ]
  },
  {
   "cell_type": "code",
   "execution_count": 3,
   "metadata": {},
   "outputs": [
    {
     "name": "stdout",
     "output_type": "stream",
     "text": [
      "\n",
      "Loading currently available ids from Entrez nucleotide...\n",
      "==================================================\n",
      "\n",
      "Transcript variant ids: \n",
      "[1370466850, 1370466849, 1370466848, 1370466847, 1370466846, 1370466845, 1370466844, 1370466843, 1370466842, 1370466841, 1370466840, 1370466839, 1370466838, 1034591191, 1034591189, 530406104, 1676355481, 1675159331, 1675115520, 1675107575, 1674995210, 1519241926]\n",
      "\n",
      "Search results: 22\n",
      "\n"
     ]
    }
   ],
   "source": [
    "### Creating query  \n",
    "mRNAtranscripts = []\n",
    "transcriptmRNA_esearch = eclient.esearch(db='nucleotide',\n",
    "            term='DPP8[gene] AND \"Homo sapiens\"[Primary Organism] AND (biomol_mrna[PROP] AND refseq[filter])')\n",
    "print(\"\\nLoading currently available ids from Entrez nucleotide...\")\n",
    "print(\"=\"*50)\n",
    "print(\"\\nTranscript variant ids: \")\n",
    "print(transcriptmRNA_esearch.ids)\n",
    "for item in transcriptmRNA_esearch.ids:\n",
    "    mRNAtranscripts.append(item)\n",
    "print(\"\\nSearch results: {}\\n\".format(transcriptmRNA_esearch.count))"
   ]
  },
  {
   "cell_type": "code",
   "execution_count": 4,
   "metadata": {},
   "outputs": [
    {
     "name": "stdout",
     "output_type": "stream",
     "text": [
      "[1] Esummary for id ---> 1370466850\n",
      "PREDICTED: Homo sapiens dipeptidyl peptidase 8 (DPP8), transcript variant X13, mRNA\n",
      "XM_017022381.2\n",
      "Length: 6825 bp\n",
      "\n",
      "\n",
      "[2] Esummary for id ---> 1370466849\n",
      "PREDICTED: Homo sapiens dipeptidyl peptidase 8 (DPP8), transcript variant X12, mRNA\n",
      "XM_017022380.2\n",
      "Length: 2688 bp\n",
      "\n",
      "\n",
      "[3] Esummary for id ---> 1370466848\n",
      "PREDICTED: Homo sapiens dipeptidyl peptidase 8 (DPP8), transcript variant X11, mRNA\n",
      "XM_017022379.2\n",
      "Length: 6954 bp\n",
      "\n",
      "\n",
      "[4] Esummary for id ---> 1370466847\n",
      "PREDICTED: Homo sapiens dipeptidyl peptidase 8 (DPP8), transcript variant X10, mRNA\n",
      "XM_017022378.2\n",
      "Length: 7251 bp\n",
      "\n",
      "\n",
      "[5] Esummary for id ---> 1370466846\n",
      "PREDICTED: Homo sapiens dipeptidyl peptidase 8 (DPP8), transcript variant X9, mRNA\n",
      "XM_017022377.2\n",
      "Length: 6978 bp\n",
      "\n",
      "\n",
      "[6] Esummary for id ---> 1370466845\n",
      "PREDICTED: Homo sapiens dipeptidyl peptidase 8 (DPP8), transcript variant X8, mRNA\n",
      "XM_011521734.2\n",
      "Length: 7216 bp\n",
      "\n",
      "\n",
      "[7] Esummary for id ---> 1370466844\n",
      "PREDICTED: Homo sapiens dipeptidyl peptidase 8 (DPP8), transcript variant X7, mRNA\n",
      "XM_011521733.2\n",
      "Length: 7107 bp\n",
      "\n",
      "\n",
      "[8] Esummary for id ---> 1370466843\n",
      "PREDICTED: Homo sapiens dipeptidyl peptidase 8 (DPP8), transcript variant X6, mRNA\n",
      "XM_011521732.3\n",
      "Length: 7404 bp\n",
      "\n",
      "\n",
      "[9] Esummary for id ---> 1370466842\n",
      "PREDICTED: Homo sapiens dipeptidyl peptidase 8 (DPP8), transcript variant X5, mRNA\n",
      "XM_017022376.2\n",
      "Length: 7128 bp\n",
      "\n",
      "\n",
      "[10] Esummary for id ---> 1370466841\n",
      "PREDICTED: Homo sapiens dipeptidyl peptidase 8 (DPP8), transcript variant X4, mRNA\n",
      "XM_017022375.2\n",
      "Length: 7152 bp\n",
      "\n",
      "\n",
      "[11] Esummary for id ---> 1370466840\n",
      "PREDICTED: Homo sapiens dipeptidyl peptidase 8 (DPP8), transcript variant X3, mRNA\n",
      "XM_011521731.2\n",
      "Length: 7342 bp\n",
      "\n",
      "\n",
      "[12] Esummary for id ---> 1370466839\n",
      "PREDICTED: Homo sapiens dipeptidyl peptidase 8 (DPP8), transcript variant X2, mRNA\n",
      "XM_017022374.2\n",
      "Length: 7363 bp\n",
      "\n",
      "\n",
      "[13] Esummary for id ---> 1370466838\n",
      "PREDICTED: Homo sapiens dipeptidyl peptidase 8 (DPP8), transcript variant X1, mRNA\n",
      "XM_011521730.2\n",
      "Length: 7387 bp\n",
      "\n",
      "\n",
      "[14] Esummary for id ---> 1034591191\n",
      "PREDICTED: Homo sapiens dipeptidyl peptidase 8 (DPP8), transcript variant X20, mRNA\n",
      "XM_017022383.1\n",
      "Length: 6086 bp\n",
      "\n",
      "\n",
      "[15] Esummary for id ---> 1034591189\n",
      "PREDICTED: Homo sapiens dipeptidyl peptidase 8 (DPP8), transcript variant X19, mRNA\n",
      "XM_017022382.1\n",
      "Length: 6114 bp\n",
      "\n",
      "\n",
      "[16] Esummary for id ---> 530406104\n",
      "PREDICTED: Homo sapiens dipeptidyl peptidase 8 (DPP8), transcript variant X24, mRNA\n",
      "XM_005254505.1\n",
      "Length: 5987 bp\n",
      "\n",
      "\n",
      "[17] Esummary for id ---> 1676355481\n",
      "Homo sapiens dipeptidyl peptidase 8 (DPP8), transcript variant 6, mRNA\n",
      "NM_001320875.2\n",
      "Length: 7417 bp\n",
      "\n",
      "\n",
      "[18] Esummary for id ---> 1675159331\n",
      "Homo sapiens dipeptidyl peptidase 8 (DPP8), transcript variant 8, mRNA\n",
      "NM_001320876.2\n",
      "Length: 7386 bp\n",
      "\n",
      "\n",
      "[19] Esummary for id ---> 1675115520\n",
      "Homo sapiens dipeptidyl peptidase 8 (DPP8), transcript variant 3, mRNA\n",
      "NM_197960.4\n",
      "Length: 7282 bp\n",
      "\n",
      "\n",
      "[20] Esummary for id ---> 1675107575\n",
      "Homo sapiens dipeptidyl peptidase 8 (DPP8), transcript variant 4, mRNA\n",
      "NM_197961.4\n",
      "Length: 7264 bp\n",
      "\n",
      "\n",
      "[21] Esummary for id ---> 1674995210\n",
      "Homo sapiens dipeptidyl peptidase 8 (DPP8), transcript variant 2, mRNA\n",
      "NM_017743.6\n",
      "Length: 6981 bp\n",
      "\n",
      "\n",
      "[22] Esummary for id ---> 1519241926\n",
      "Homo sapiens dipeptidyl peptidase 8 (DPP8), transcript variant 1, mRNA\n",
      "NM_130434.5\n",
      "Length: 7281 bp\n",
      "\n",
      "\n"
     ]
    }
   ],
   "source": [
    "### Esummary for retrieving information\n",
    "Entrez.email = \"iris.raes@hotmail.com\"\n",
    "### For each id in mRNAtranscripts\n",
    "counter = 1\n",
    "for ids in mRNAtranscripts:\n",
    "    handle = Entrez.esummary(db=\"nucleotide\", id=ids)\n",
    "    record = Entrez.read(handle)\n",
    "    handle.close()\n",
    "    print(\"[{}] Esummary for id ---> {}\".format(counter,record[0][\"Id\"]))\n",
    "    print(record[0][\"Title\"])\n",
    "    print(record[0][\"AccessionVersion\"])\n",
    "    print(\"Length: {} bp\".format(record[0][\"Length\"]))\n",
    "    counter += 1\n",
    "    print(\"\\n\")"
   ]
  },
  {
   "cell_type": "markdown",
   "metadata": {},
   "source": [
    "#### 2) dbVar Search -  Pathogenic Copy Number Variation in Human"
   ]
  },
  {
   "cell_type": "code",
   "execution_count": 4,
   "metadata": {},
   "outputs": [
    {
     "name": "stdout",
     "output_type": "stream",
     "text": [
      "\n",
      "Loading currently available ids from dbVar...\n",
      "==================================================\n",
      "dbVar ids: \n",
      "[49355208, 49345988, 48482823, 48479604, 48476936, 48468493, 48467441, 48463636, 48462914, 48458970, 48456310, 48440267, 45807182, 45806585, 45805231, 45804309, 45803873, 45802836, 17813982, 17813734, 11417959, 3738417, 1137112]\n",
      "\n",
      "Search results: 23\n",
      "\n"
     ]
    }
   ],
   "source": [
    "### Creating query \n",
    "CNV = []\n",
    "CNV_esearch = eclient.esearch(db='dbVar',\n",
    "            term='DPP8[All Fields] AND (\"Homo sapiens\"[Organism] AND \"copy number variation\"[Variant Type] AND \"Pathogenic\"[clinical_interpretation])')\n",
    "print(\"\\nLoading currently available ids from dbVar...\")\n",
    "print(\"=\"*50)\n",
    "print(\"dbVar ids: \")\n",
    "print(CNV_esearch.ids)\n",
    "for item in CNV_esearch.ids:\n",
    "    CNV.append(item)\n",
    "print(\"\\nSearch results: {}\\n\".format(CNV_esearch.count))"
   ]
  },
  {
   "cell_type": "code",
   "execution_count": null,
   "metadata": {},
   "outputs": [],
   "source": [
    "### Esummary for retrieving information\n",
    "Entrez.email = \"iris.raes@hotmail.com\"\n",
    "### For each id in CNV\n",
    "counter = 1\n",
    "for ids in CNV:\n",
    "    handle = Entrez.esummary(db=\"dbVar\", id=ids)\n",
    "    record = Entrez.read(handle)\n",
    "    handle.close()\n",
    "    #print(record)\n",
    "    print(\"[{}] Esummary for id ---> {}\".format(counter,ids))\n",
    "    print(\"Variant Region ID: {}\".format(record['DocumentSummarySet']['DocumentSummary'][0]['SV']))\n",
    "    print(\"Type: {}\".format(record['DocumentSummarySet']['DocumentSummary'][0]['dbVarVariantTypeList'][0]))\n",
    "    print(\"Study ID: {}\".format(record['DocumentSummarySet']['DocumentSummary'][0]['ST']))\n",
    "    print(\"Clinical Assertion: {}\".format(record['DocumentSummarySet']['DocumentSummary'][0]['dbVarClinicalSignificanceList'][0]))\n",
    "    print(\"-\"*30)\n",
    "    print(\"Position on chromosome assembly: {}\".format(record['DocumentSummarySet']['DocumentSummary'][0]['dbVarPlacementList'][0]['Assembly']))\n",
    "    print(\"--> Start: {}\".format(record['DocumentSummarySet']['DocumentSummary'][0]['dbVarPlacementList'][0]['Chr_start']))\n",
    "    print(\"--> End: {}\".format(record['DocumentSummarySet']['DocumentSummary'][0]['dbVarPlacementList'][0]['Chr_end']))\n",
    "    print(\"- -\"*9)\n",
    "    print(\"Position on chromosome assembly: {}\".format(record['DocumentSummarySet']['DocumentSummary'][0]['dbVarPlacementList'][1]['Assembly']))\n",
    "    print(\"--> Start: {}\".format(record['DocumentSummarySet']['DocumentSummary'][0]['dbVarPlacementList'][1]['Chr_start']))\n",
    "    print(\"--> End: {}\".format(record['DocumentSummarySet']['DocumentSummary'][0]['dbVarPlacementList'][1]['Chr_end']))\n",
    "    counter += 1\n",
    "    print(\"\\n\")"
   ]
  },
  {
   "cell_type": "markdown",
   "metadata": {},
   "source": [
    "#### 3) dbVar Search -  Insertions in Human"
   ]
  },
  {
   "cell_type": "code",
   "execution_count": 5,
   "metadata": {},
   "outputs": [
    {
     "name": "stdout",
     "output_type": "stream",
     "text": [
      "\n",
      "Loading currently available ids from dbVar...\n",
      "==================================================\n",
      "dbVar ids: \n",
      "[50024441, 48549155, 48377627, 36885535, 24618684, 24576021, 24558392, 24516168, 24501143, 24501142, 17814018, 17813982, 17336238, 14119771, 14115029, 14114189, 14113866, 14112658, 14112430, 14112429, 14111508, 14111245, 14107369, 14105300, 14104726, 14104193, 14103616, 13414404, 11399938, 8197100, 8159847, 8122040, 8057196, 8044108, 8007639, 7768471, 7752235, 7738302, 7722208, 7705457, 7688648, 7664161, 7609031, 7591442, 7570618, 7474009, 6648623, 6628573, 6602416, 6598575, 6568283, 6558551, 6491732, 6435184, 6381100, 6339301, 6327518, 6309426, 6307845, 6273396, 6271310, 6266973, 6208346, 6201794, 5661470, 5637858, 5637856, 5637855, 5637848, 5637847, 5637844, 5637843, 5469512, 5469511, 5195919, 1297001, 1028299, 200347, 200332, 198303, 198286, 197576, 196707, 194999, 193349, 193218, 40396]\n",
      "\n",
      "Search results: 87\n",
      "\n"
     ]
    }
   ],
   "source": [
    "### Creating query \n",
    "insertion_esearch = eclient.esearch(db='dbVar',\n",
    "            term='DPP8[All Fields] AND (\"Homo sapiens\"[Organism] AND \"insertion\"[Variant Type])')\n",
    "print(\"\\nLoading currently available ids from dbVar...\")\n",
    "print(\"=\"*50)\n",
    "print(\"dbVar ids: \")\n",
    "print(insertion_esearch.ids)\n",
    "print(\"\\nSearch results: {}\\n\".format(insertion_esearch.count))"
   ]
  },
  {
   "cell_type": "markdown",
   "metadata": {},
   "source": [
    "#### 4) dbVar Search -  Inversions in Human"
   ]
  },
  {
   "cell_type": "code",
   "execution_count": 6,
   "metadata": {},
   "outputs": [
    {
     "name": "stdout",
     "output_type": "stream",
     "text": [
      "\n",
      "Loading currently available ids from dbVar...\n",
      "==================================================\n",
      "dbVar ids: \n",
      "[48549155, 48377627, 36885535, 25050625, 25020883, 24618684, 24618666, 24516168, 24501143, 24501142, 17814018, 17813982, 17336238, 5195919, 1297001, 1028299]\n",
      "\n",
      "Search results: 16\n",
      "\n"
     ]
    }
   ],
   "source": [
    "### Creating query \n",
    "inversion_esearch = eclient.esearch(db='dbVar',\n",
    "            term='DPP8[All Fields] AND (\"Homo sapiens\"[Organism] AND \"inversion\"[Variant Type])')\n",
    "print(\"\\nLoading currently available ids from dbVar...\")\n",
    "print(\"=\"*50)\n",
    "print(\"dbVar ids: \")\n",
    "print(inversion_esearch.ids)\n",
    "print(\"\\nSearch results: {}\\n\".format(inversion_esearch.count))"
   ]
  },
  {
   "cell_type": "markdown",
   "metadata": {},
   "source": [
    "#### 5) dbVar Search -  Short Tandem Repeats in Human (seems to be less important)"
   ]
  },
  {
   "cell_type": "code",
   "execution_count": 7,
   "metadata": {},
   "outputs": [
    {
     "name": "stdout",
     "output_type": "stream",
     "text": [
      "\n",
      "Loading currently available ids from dbVar...\n",
      "==================================================\n",
      "dbVar ids: \n",
      "[35556668, 35556667, 35556666, 35556665, 35556663, 35556662, 35556661, 35556660, 35556659, 35556658, 35556657, 35556656, 35556654, 35556653, 35556652, 35556651, 35556650, 35556649, 35556648, 35556647, 35556646, 35554677, 35554676, 35554675, 35554674, 35554672, 35554671, 35554670, 35554669, 35554667, 35554666, 35554665, 35554664, 35554663, 35554662, 35554661, 35554659, 35554658, 35553038, 35553037, 35553036, 35553035, 35553034, 35553033, 35553032, 35553031, 35553029, 35553028, 35553027, 35553026, 35553024, 35553023, 35553022, 35553021, 35553019, 35553018, 35553017, 35552871, 35552869, 35552868, 35552867, 35552866, 35552865, 35552864, 35552863, 35552862, 35552861, 35552860, 35552859, 35552858, 35552857, 35552856, 35552855, 35552854, 35552853, 35552852, 35552851, 35552850, 35552849, 30349921]\n",
      "\n",
      "Search results: 80\n",
      "\n"
     ]
    }
   ],
   "source": [
    "### Creating query \n",
    "STR_esearch = eclient.esearch(db='dbVar',\n",
    "            term='DPP8[All Fields] AND (\"Homo sapiens\"[Organism] AND \"short tandem repeat\"[Variant Type])')\n",
    "print(\"\\nLoading currently available ids from dbVar...\")\n",
    "print(\"=\"*50)\n",
    "print(\"dbVar ids: \")\n",
    "print(STR_esearch.ids)\n",
    "print(\"\\nSearch results: {}\\n\".format(STR_esearch.count))"
   ]
  },
  {
   "cell_type": "markdown",
   "metadata": {},
   "source": [
    "#### 6) ClinVar Search -  Genetic Variations  in Human"
   ]
  },
  {
   "cell_type": "code",
   "execution_count": 8,
   "metadata": {},
   "outputs": [
    {
     "name": "stdout",
     "output_type": "stream",
     "text": [
      "\n",
      "Loading currently available ids from ClinVar...\n",
      "==================================================\n",
      "\n",
      "ClinVar ids: \n",
      "[614697, 614696]\n",
      "\n",
      "Search results: 2\n",
      "\n"
     ]
    }
   ],
   "source": [
    "### Creating query \n",
    "ClinVar_esearch = eclient.esearch(db='ClinVar',\n",
    "            term='DPP8[gene] AND \"Single gene\"')\n",
    "print(\"\\nLoading currently available ids from ClinVar...\")\n",
    "print(\"=\"*50)\n",
    "print(\"\\nClinVar ids: \")\n",
    "print(ClinVar_esearch.ids)\n",
    "print(\"\\nSearch results: {}\\n\".format(ClinVar_esearch.count))"
   ]
  }
 ],
 "metadata": {
  "kernelspec": {
   "display_name": "Python 3",
   "language": "python",
   "name": "python3"
  },
  "language_info": {
   "codemirror_mode": {
    "name": "ipython",
    "version": 3
   },
   "file_extension": ".py",
   "mimetype": "text/x-python",
   "name": "python",
   "nbconvert_exporter": "python",
   "pygments_lexer": "ipython3",
   "version": "3.7.6"
  }
 },
 "nbformat": 4,
 "nbformat_minor": 4
}
