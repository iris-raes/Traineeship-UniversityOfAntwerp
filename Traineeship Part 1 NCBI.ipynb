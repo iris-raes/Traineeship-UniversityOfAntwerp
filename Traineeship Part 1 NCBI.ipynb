{
 "cells": [
  {
   "cell_type": "markdown",
   "metadata": {},
   "source": [
    "# **Traineeship Part 1: Data collection (ids) using NCBI eUtils**\n",
    "\n",
    "## Author: Iris Raes             \n",
    "### April 20, 2020\n",
    "\n",
    "### The University of Antwerp, Medical Biochemistry, Campus Drie Eiken\n"
   ]
  },
  {
   "cell_type": "markdown",
   "metadata": {},
   "source": [
    "#### *Loading required packages*"
   ]
  },
  {
   "cell_type": "code",
   "execution_count": 1,
   "metadata": {},
   "outputs": [],
   "source": [
    "# pip3 install --user eutils\n",
    "from eutils import Client"
   ]
  },
  {
   "cell_type": "markdown",
   "metadata": {},
   "source": [
    "#### *Personal API-key*"
   ]
  },
  {
   "cell_type": "code",
   "execution_count": 2,
   "metadata": {},
   "outputs": [],
   "source": [
    "eclient = Client(api_key=\"8ecce891e7fa036ff84bccc7c74e5138dc09\")"
   ]
  },
  {
   "cell_type": "markdown",
   "metadata": {},
   "source": [
    "-----------------------------------------------------------------"
   ]
  },
  {
   "cell_type": "markdown",
   "metadata": {},
   "source": [
    "#### 1) Entrez Nucleotide Search - mRNA Transcript Variants"
   ]
  },
  {
   "cell_type": "code",
   "execution_count": 3,
   "metadata": {},
   "outputs": [
    {
     "name": "stdout",
     "output_type": "stream",
     "text": [
      "\n",
      "Loading currently available ids from Entrez nucleotide...\n",
      "==================================================\n",
      "\n",
      "Transcript variant ids: \n",
      "[1370476185, 1034610004, 1034610002, 768004626, 768004622, 768004618, 768004616, 578833714, 1677498370, 1677499978]\n",
      "\n",
      "Search results: 10\n",
      "\n"
     ]
    }
   ],
   "source": [
    "### Creating query  \n",
    "transcriptmRNA_esearch = eclient.esearch(db='nucleotide',\n",
    "            term='DPP9[gene] AND \"Homo sapiens\"[Primary Organism] AND (biomol_mrna[PROP] AND refseq[filter])')\n",
    "print(\"\\nLoading currently available ids from Entrez nucleotide...\")\n",
    "print(\"=\"*50)\n",
    "print(\"\\nTranscript variant ids: \")\n",
    "print(transcriptmRNA_esearch.ids)\n",
    "print(\"\\nSearch results: {}\\n\".format(transcriptmRNA_esearch.count))"
   ]
  },
  {
   "cell_type": "markdown",
   "metadata": {},
   "source": [
    "#### 2) dbVar Search -  Pathogenic Copy Number Variation in Human"
   ]
  },
  {
   "cell_type": "code",
   "execution_count": 4,
   "metadata": {},
   "outputs": [
    {
     "name": "stdout",
     "output_type": "stream",
     "text": [
      "\n",
      "Loading currently available ids from dbVar...\n",
      "==================================================\n",
      "dbVar ids: \n",
      "[49623411, 49353191, 49353005, 49350830, 49349701, 49349293, 49345450, 49344315, 48468240, 48466558, 48466447, 48453939, 45807136, 17813982, 17813734, 3740775, 3739972, 3738955, 3738954, 3738649, 1212838, 1137112]\n",
      "\n",
      "Search results: 22\n",
      "\n"
     ]
    }
   ],
   "source": [
    "### Creating query \n",
    "CNV_esearch = eclient.esearch(db='dbVar',\n",
    "            term='DPP9[All Fields] AND (\"Homo sapiens\"[Organism] AND \"copy number variation\"[Variant Type] AND \"Pathogenic\"[clinical_interpretation])')\n",
    "print(\"\\nLoading currently available ids from dbVar...\")\n",
    "print(\"=\"*50)\n",
    "print(\"dbVar ids: \")\n",
    "print(CNV_esearch.ids)\n",
    "print(\"\\nSearch results: {}\\n\".format(CNV_esearch.count))"
   ]
  },
  {
   "cell_type": "markdown",
   "metadata": {},
   "source": [
    "#### 3) dbVar Search -  Insertions in Human"
   ]
  },
  {
   "cell_type": "code",
   "execution_count": 5,
   "metadata": {},
   "outputs": [
    {
     "name": "stdout",
     "output_type": "stream",
     "text": [
      "\n",
      "Loading currently available ids from dbVar...\n",
      "==================================================\n",
      "dbVar ids: \n",
      "[49597698, 49580472, 48530760, 48377645, 48377627, 47753859, 47564069, 47178696, 46791711, 45897195, 45896455, 45807279, 36885535, 24618684, 24516168, 24501143, 17814018, 17813982, 14212055, 14211117, 14209696, 13414404, 11399938, 8023314, 7738722, 7694891, 7590450, 7474153, 6477950, 6451851, 6354196, 5661470, 5431842, 5195919, 1297001, 1028299, 286824, 285317, 284926, 40396]\n",
      "\n",
      "Search results: 40\n",
      "\n"
     ]
    }
   ],
   "source": [
    "### Creating query \n",
    "insertion_esearch = eclient.esearch(db='dbVar',\n",
    "            term='DPP9[All Fields] AND (\"Homo sapiens\"[Organism] AND \"insertion\"[Variant Type])')\n",
    "print(\"\\nLoading currently available ids from dbVar...\")\n",
    "print(\"=\"*50)\n",
    "print(\"dbVar ids: \")\n",
    "print(insertion_esearch.ids)\n",
    "print(\"\\nSearch results: {}\\n\".format(insertion_esearch.count))"
   ]
  },
  {
   "cell_type": "markdown",
   "metadata": {},
   "source": [
    "#### 4) dbVar Search -  Inversions in Human"
   ]
  },
  {
   "cell_type": "code",
   "execution_count": 6,
   "metadata": {},
   "outputs": [
    {
     "name": "stdout",
     "output_type": "stream",
     "text": [
      "\n",
      "Loading currently available ids from dbVar...\n",
      "==================================================\n",
      "dbVar ids: \n",
      "[48377627, 47178696, 46791711, 45807289, 45807279, 36885535, 24618684, 24516168, 24501143, 17814018, 17813982, 5195919, 1297001, 1028299]\n",
      "\n",
      "Search results: 14\n",
      "\n"
     ]
    }
   ],
   "source": [
    "### Creating query \n",
    "inversion_esearch = eclient.esearch(db='dbVar',\n",
    "            term='DPP9[All Fields] AND (\"Homo sapiens\"[Organism] AND \"inversion\"[Variant Type])')\n",
    "print(\"\\nLoading currently available ids from dbVar...\")\n",
    "print(\"=\"*50)\n",
    "print(\"dbVar ids: \")\n",
    "print(inversion_esearch.ids)\n",
    "print(\"\\nSearch results: {}\\n\".format(inversion_esearch.count))"
   ]
  },
  {
   "cell_type": "markdown",
   "metadata": {},
   "source": [
    "#### 5) dbVar Search -  Short Tandem Repeats in Human (seems to be less important)"
   ]
  },
  {
   "cell_type": "code",
   "execution_count": 7,
   "metadata": {},
   "outputs": [
    {
     "name": "stdout",
     "output_type": "stream",
     "text": [
      "\n",
      "Loading currently available ids from dbVar...\n",
      "==================================================\n",
      "dbVar ids: \n",
      "[35728959, 35728956, 35728945, 35728942, 35728939, 35728922, 35728913, 35728902, 35728888, 35728883, 35728872, 35728679, 35728652, 35728650, 35728640, 35728610, 35728601, 35728076, 35727391, 35727380, 35727364, 35727355, 35727352, 35727332, 35727324, 35726686, 35726677, 35726669, 35726663, 35726639, 30349921]\n",
      "\n",
      "Search results: 31\n",
      "\n"
     ]
    }
   ],
   "source": [
    "### Creating query \n",
    "STR_esearch = eclient.esearch(db='dbVar',\n",
    "            term='DPP9[All Fields] AND (\"Homo sapiens\"[Organism] AND \"short tandem repeat\"[Variant Type])')\n",
    "print(\"\\nLoading currently available ids from dbVar...\")\n",
    "print(\"=\"*50)\n",
    "print(\"dbVar ids: \")\n",
    "print(STR_esearch.ids)\n",
    "print(\"\\nSearch results: {}\\n\".format(STR_esearch.count))"
   ]
  },
  {
   "cell_type": "markdown",
   "metadata": {},
   "source": [
    "#### 6) ClinVar Search -  Genetic Variations  in Human"
   ]
  },
  {
   "cell_type": "code",
   "execution_count": 8,
   "metadata": {},
   "outputs": [
    {
     "name": "stdout",
     "output_type": "stream",
     "text": [
      "\n",
      "Loading currently available ids from ClinVar...\n",
      "==================================================\n",
      "\n",
      "ClinVar ids: \n",
      "[788833, 779179, 778595, 769947, 717743, 713315, 615908]\n",
      "\n",
      "Search results: 7\n",
      "\n"
     ]
    }
   ],
   "source": [
    "### Creating query \n",
    "ClinVar_esearch = eclient.esearch(db='ClinVar',\n",
    "            term='DPP9[gene] AND \"Single gene\"')\n",
    "print(\"\\nLoading currently available ids from ClinVar...\")\n",
    "print(\"=\"*50)\n",
    "print(\"\\nClinVar ids: \")\n",
    "print(ClinVar_esearch.ids)\n",
    "print(\"\\nSearch results: {}\\n\".format(ClinVar_esearch.count))"
   ]
  }
 ],
 "metadata": {
  "kernelspec": {
   "display_name": "Python 3",
   "language": "python",
   "name": "python3"
  },
  "language_info": {
   "codemirror_mode": {
    "name": "ipython",
    "version": 3
   },
   "file_extension": ".py",
   "mimetype": "text/x-python",
   "name": "python",
   "nbconvert_exporter": "python",
   "pygments_lexer": "ipython3",
   "version": "3.7.6"
  }
 },
 "nbformat": 4,
 "nbformat_minor": 4
}
