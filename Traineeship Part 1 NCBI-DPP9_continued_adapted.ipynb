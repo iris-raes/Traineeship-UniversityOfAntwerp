{
 "cells": [
  {
   "cell_type": "markdown",
   "metadata": {},
   "source": [
    "**Traineeship Part 1: Data collection using NCBI eUtils and esummary CONTINUED/ADAPTED - DPP9** \n",
    "\n",
    "**Author: Iris Raes**             \n",
    "\n",
    "**The University of Antwerp, Medical Biochemistry, Campus Drie Eiken**"
   ]
  },
  {
   "cell_type": "markdown",
   "metadata": {},
   "source": [
    "#### *Loading required packages*"
   ]
  },
  {
   "cell_type": "code",
   "execution_count": 1,
   "metadata": {},
   "outputs": [],
   "source": [
    "# pip3 install --user eutils\n",
    "import MySQLdb as my\n",
    "from eutils import Client\n",
    "from Bio import Entrez\n",
    "import csv"
   ]
  },
  {
   "cell_type": "markdown",
   "metadata": {},
   "source": [
    "#### *UCSC connection for ncbiRefSeq search (mRNA/RNA transcripts with hg19 coordinates)*"
   ]
  },
  {
   "cell_type": "code",
   "execution_count": 2,
   "metadata": {},
   "outputs": [],
   "source": [
    "### Connection UCSC\n",
    "db = my.connect(host=\"genome-euro-mysql.soe.ucsc.edu\",\n",
    "   user=\"genomep\",\n",
    "   passwd=\"password\",\n",
    "   db=\"hg19\")\n",
    "c = db.cursor()\n",
    "### ncbiRefSeq search\n",
    "no_rows = c.execute(\"\"\"SELECT * FROM ncbiRefSeq WHERE name2 LIKE 'DPP9%'\"\"\")\n",
    "result = c.fetchall()\n",
    "### Close database\n",
    "db.close()"
   ]
  },
  {
   "cell_type": "code",
   "execution_count": 3,
   "metadata": {},
   "outputs": [
    {
     "name": "stdout",
     "output_type": "stream",
     "text": [
      "\n",
      "Loading currently available accession numbers from NCBI RefSeq table...\n",
      "==================================================\n",
      "\n",
      "Transcript variant accession numbers: \n",
      "NM_139159.5\n",
      "NR_158699.2\n",
      "NM_001365987.2\n",
      "NR_164163.1\n",
      "\n",
      "Search results: 4\n",
      "\n"
     ]
    }
   ],
   "source": [
    "print(\"\\nLoading currently available accession numbers from NCBI RefSeq table...\")\n",
    "print(\"=\"*50)\n",
    "print(\"\\nTranscript variant accession numbers: \")\n",
    "accList = []\n",
    "### Save data to csv file\n",
    "with open('results-transcripts-UCSC.csv', mode='w') as result_transcripts:\n",
    "    result_writer = csv.writer(result_transcripts,delimiter=';')\n",
    "    result_writer.writerow([\"chromosome\",\"start\",\"end\",\"strand\",\"gene\",\"exonCount\",\"accession\"])\n",
    "    for row in result:\n",
    "        transcript = row[1]\n",
    "        print(transcript)\n",
    "        accList.append(transcript)\n",
    "        starts = str(row[9])[2:-2]\n",
    "        ends = str(row[10])[2:-2]\n",
    "        starts1 = starts.split(\",\")\n",
    "        ends1 = ends.split(\",\")\n",
    "        j = 0\n",
    "        for i in starts1:\n",
    "            result_writer.writerow([row[2],i,ends1[j],row[3],row[12],row[8],row[1]])\n",
    "            j += 1\n",
    "print(\"\\nSearch results: {}\\n\".format(no_rows))\n",
    "### Close csv file\n",
    "result_transcripts.close()"
   ]
  },
  {
   "cell_type": "markdown",
   "metadata": {},
   "source": [
    "#### *Personal API-key for NCBI search*"
   ]
  },
  {
   "cell_type": "code",
   "execution_count": 4,
   "metadata": {},
   "outputs": [],
   "source": [
    "eclient = Client(api_key=\"8ecce891e7fa036ff84bccc7c74e5138dc09\")"
   ]
  },
  {
   "cell_type": "markdown",
   "metadata": {},
   "source": [
    "-----------------------------------------------------------------"
   ]
  },
  {
   "cell_type": "markdown",
   "metadata": {},
   "source": [
    "#### 1) Entrez Nucleotide Search - mRNA Transcript Variants"
   ]
  },
  {
   "cell_type": "code",
   "execution_count": 5,
   "metadata": {},
   "outputs": [
    {
     "name": "stdout",
     "output_type": "stream",
     "text": [
      "\n",
      "Loading currently available ids from Entrez nucleotide...\n",
      "==================================================\n",
      "\n",
      "Transcript variant ids: \n",
      "[1370476185, 1034610004, 1034610002, 768004630, 768004626, 768004622, 768004618, 768004616, 578833714, 1677498370, 1677499978, 1700660497]\n",
      "\n",
      "Search results: 12\n",
      "\n"
     ]
    }
   ],
   "source": [
    "### Creating query  \n",
    "mRNAtranscripts = []\n",
    "transcriptmRNA_esearch = eclient.esearch(db='nucleotide',\n",
    "            term='(DPP9[gene] AND \"Homo sapiens\"[Primary Organism] AND refseq[filter]) NOT biomol_genomic[PROP]')\n",
    "print(\"\\nLoading currently available ids from Entrez nucleotide...\")\n",
    "print(\"=\"*50)\n",
    "print(\"\\nTranscript variant ids: \")\n",
    "print(transcriptmRNA_esearch.ids)\n",
    "for item in transcriptmRNA_esearch.ids:\n",
    "    mRNAtranscripts.append(item)\n",
    "print(\"\\nSearch results: {}\\n\".format(transcriptmRNA_esearch.count))"
   ]
  },
  {
   "cell_type": "code",
   "execution_count": null,
   "metadata": {},
   "outputs": [],
   "source": [
    "### Esummary for retrieving information\n",
    "Entrez.email = \"iris.raes@hotmail.com\"\n",
    "### For each id in mRNAtranscripts\n",
    "### Save data to csv file\n",
    "with open('results-nucleotide.csv', mode='w') as result_nucleotide:\n",
    "    result_writer = csv.writer(result_nucleotide,delimiter=';')\n",
    "    result_writer.writerow([\"transcript_id\",\"description\",\"transcript_variant\",\"accession\",\"length_in_bp\"])\n",
    "    counter = 1\n",
    "    for ids in mRNAtranscripts:\n",
    "        handle = Entrez.esummary(db=\"nucleotide\", id=ids)\n",
    "        record = Entrez.read(handle)\n",
    "        handle.close()\n",
    "        ### Write info to csv file, row by row\n",
    "        splittedtitle = record[0][\"Title\"].split(\",\")\n",
    "        print(splittedtitle)\n",
    "        result_writer.writerow([record[0][\"Id\"],splittedtitle[0],splittedtitle[1],record[0][\"AccessionVersion\"],record[0][\"Length\"]])\n",
    "        ###\n",
    "        counter += 1\n",
    "### Close csv file\n",
    "result_nucleotide.close()"
   ]
  },
  {
   "cell_type": "markdown",
   "metadata": {},
   "source": [
    "#### 2) dbVar Search -  Pathogenic Copy Number Variation in Human"
   ]
  },
  {
   "cell_type": "code",
   "execution_count": 6,
   "metadata": {},
   "outputs": [
    {
     "name": "stdout",
     "output_type": "stream",
     "text": [
      "\n",
      "Loading currently available ids from dbVar...\n",
      "==================================================\n",
      "dbVar ids: \n",
      "[49623411, 49353191, 49353005, 49350830, 49349701, 49349293, 49345450, 49344315, 48468240, 48466558, 48466447, 48453939, 45807136, 17813982, 17813734, 3740775, 3739972, 3738955, 3738954, 3738649, 1212838, 1137112]\n",
      "\n",
      "Search results: 22\n",
      "\n"
     ]
    }
   ],
   "source": [
    "### Creating query \n",
    "CNV = []\n",
    "CNV_esearch = eclient.esearch(db='dbVar',\n",
    "            term='DPP9[All Fields] AND (\"Homo sapiens\"[Organism] AND \"copy number variation\"[Variant Type] AND \"Pathogenic\"[clinical_interpretation])')\n",
    "print(\"\\nLoading currently available ids from dbVar...\")\n",
    "print(\"=\"*50)\n",
    "print(\"dbVar ids: \")\n",
    "print(CNV_esearch.ids)\n",
    "for item in CNV_esearch.ids:\n",
    "    CNV.append(item)\n",
    "print(\"\\nSearch results: {}\\n\".format(CNV_esearch.count))"
   ]
  },
  {
   "cell_type": "code",
   "execution_count": null,
   "metadata": {},
   "outputs": [],
   "source": [
    "### Esummary for retrieving information\n",
    "Entrez.email = \"iris.raes@hotmail.com\"\n",
    "### For each id in CNV\n",
    "### Save data in csv file\n",
    "with open('results-CNV-dbVar.csv', mode='w') as result_CNV:\n",
    "    result_writer = csv.writer(result_CNV,delimiter=';')\n",
    "    result_writer.writerow([\"CNV_variant_id\",\"variant_region_id\",\"type\",\"study_ID\",\"clinical_assertion\",\"Chr_1\",\"assembly1\",\"Chr_2\",\"assembly2\"])\n",
    "    counter = 1\n",
    "    for ids in CNV:\n",
    "        handle = Entrez.esummary(db=\"dbVar\", id=ids)\n",
    "        record = Entrez.read(handle)\n",
    "        handle.close()\n",
    "        varregid = record['DocumentSummarySet']['DocumentSummary'][0].get('SV')\n",
    "        types = record['DocumentSummarySet']['DocumentSummary'][0].get('dbVarVariantTypeList')\n",
    "        studyid = record['DocumentSummarySet']['DocumentSummary'][0].get('ST')\n",
    "        clinicalassertion = record['DocumentSummarySet']['DocumentSummary'][0].get('dbVarClinicalSignificanceList')\n",
    "        if record['DocumentSummarySet']['DocumentSummary'][0]['dbVarPlacementList'] != []:\n",
    "            Chr_1 = record['DocumentSummarySet']['DocumentSummary'][0]['dbVarPlacementList'][0].get('Chr')\n",
    "            assembly1 = record['DocumentSummarySet']['DocumentSummary'][0]['dbVarPlacementList'][0].get('Assembly')\n",
    "            start1 = record['DocumentSummarySet']['DocumentSummary'][0]['dbVarPlacementList'][0].get('Chr_start')\n",
    "            end1 = record['DocumentSummarySet']['DocumentSummary'][0]['dbVarPlacementList'][0].get('Chr_end')\n",
    "            Chr_2 = record['DocumentSummarySet']['DocumentSummary'][0]['dbVarPlacementList'][1].get('Chr')\n",
    "            assembly2 = record['DocumentSummarySet']['DocumentSummary'][0]['dbVarPlacementList'][1].get('Assembly')\n",
    "            start2 = record['DocumentSummarySet']['DocumentSummary'][0]['dbVarPlacementList'][1].get('Chr_start')\n",
    "            end2 = record['DocumentSummarySet']['DocumentSummary'][0]['dbVarPlacementList'][1].get('Chr_end')\n",
    "        ### Write info to csv file, row by row\n",
    "        result_writer.writerow([ids,varregid,types,studyid,clinicalassertion,Chr_1,assembly1+\":\"+start1+\"-\"+end1,Chr_2,assembly2+\":\"+start2+\"-\"+end2])\n",
    "        ###\n",
    "        counter += 1\n",
    "### Close csv file\n",
    "result_CNV.close()"
   ]
  },
  {
   "cell_type": "markdown",
   "metadata": {},
   "source": [
    "#### 3) dbVar Search -  Insertions in Human"
   ]
  },
  {
   "cell_type": "code",
   "execution_count": 7,
   "metadata": {},
   "outputs": [
    {
     "name": "stdout",
     "output_type": "stream",
     "text": [
      "\n",
      "Loading currently available ids from dbVar...\n",
      "==================================================\n",
      "dbVar ids: \n",
      "[49597698, 49580472, 48530760, 48377645, 48377627, 47753859, 47564069, 47178696, 46791711, 45897195, 45896455, 45807279, 36885535, 24618684, 24516168, 24501143, 17814018, 17813982, 14212055, 14211117, 14209696, 13414404, 11399938, 8023314, 7738722, 7694891, 7590450, 7474153, 6477950, 6451851, 6354196, 5661470, 5431842, 5195919, 1297001, 1028299, 286824, 285317, 284926, 40396]\n",
      "\n",
      "Search results: 40\n",
      "\n"
     ]
    }
   ],
   "source": [
    "### Creating query \n",
    "insertion = []\n",
    "insertion_esearch = eclient.esearch(db='dbVar',\n",
    "            term='DPP9[All Fields] AND (\"Homo sapiens\"[Organism] AND \"insertion\"[Variant Type])')\n",
    "print(\"\\nLoading currently available ids from dbVar...\")\n",
    "print(\"=\"*50)\n",
    "print(\"dbVar ids: \")\n",
    "print(insertion_esearch.ids)\n",
    "for item in insertion_esearch.ids:\n",
    "    insertion.append(item)\n",
    "print(\"\\nSearch results: {}\\n\".format(insertion_esearch.count))"
   ]
  },
  {
   "cell_type": "code",
   "execution_count": null,
   "metadata": {},
   "outputs": [],
   "source": [
    "### Esummary for retrieving information\n",
    "Entrez.email = \"iris.raes@hotmail.com\"\n",
    "### For each id in insertion\n",
    "### Save data to csv file\n",
    "with open('results-insertion-dbVar.csv', mode='w') as result_insertion:\n",
    "    result_writer = csv.writer(result_insertion,delimiter=';')\n",
    "    result_writer.writerow([\"insertion_variant_id\",\"variant_region_id\",\"type\",\"study_ID\",\"Chr_1\",\"assembly1\",\"Chr_2\",\"assembly2\"])\n",
    "    counter = 1\n",
    "    for ids in insertion:\n",
    "        handle = Entrez.esummary(db=\"dbVar\", id=ids)\n",
    "        record = Entrez.read(handle)\n",
    "        handle.close()\n",
    "        varregid = record['DocumentSummarySet']['DocumentSummary'][0].get('SV')\n",
    "        types = record['DocumentSummarySet']['DocumentSummary'][0].get('dbVarVariantTypeList')\n",
    "        studyid = record['DocumentSummarySet']['DocumentSummary'][0].get('ST')\n",
    "        if record['DocumentSummarySet']['DocumentSummary'][0]['dbVarPlacementList'] != []:\n",
    "            Chr_1 = record['DocumentSummarySet']['DocumentSummary'][0]['dbVarPlacementList'][0].get('Chr')\n",
    "            assembly1 = record['DocumentSummarySet']['DocumentSummary'][0]['dbVarPlacementList'][0].get('Assembly')\n",
    "            start1 = record['DocumentSummarySet']['DocumentSummary'][0]['dbVarPlacementList'][0].get('Chr_start')\n",
    "            end1 = record['DocumentSummarySet']['DocumentSummary'][0]['dbVarPlacementList'][0].get('Chr_end')\n",
    "            Chr_2 = record['DocumentSummarySet']['DocumentSummary'][0]['dbVarPlacementList'][1].get('Chr')\n",
    "            assembly2 = record['DocumentSummarySet']['DocumentSummary'][0]['dbVarPlacementList'][1].get('Assembly')\n",
    "            start2 = record['DocumentSummarySet']['DocumentSummary'][0]['dbVarPlacementList'][1].get('Chr_start')\n",
    "            end2 = record['DocumentSummarySet']['DocumentSummary'][0]['dbVarPlacementList'][1].get('Chr_end')\n",
    "        ### Write info to csv file, row by row\n",
    "        result_writer.writerow([ids,varregid,types,studyid,Chr_1,assembly1+\":\"+start1+\"-\"+end1,Chr_2,assembly2+\":\"+start2+\"-\"+end2])\n",
    "        ###\n",
    "        counter += 1\n",
    "### Close csv file\n",
    "result_insertion.close()"
   ]
  },
  {
   "cell_type": "markdown",
   "metadata": {},
   "source": [
    "#### 4) dbVar Search -  Inversions in Human"
   ]
  },
  {
   "cell_type": "code",
   "execution_count": 8,
   "metadata": {},
   "outputs": [
    {
     "name": "stdout",
     "output_type": "stream",
     "text": [
      "\n",
      "Loading currently available ids from dbVar...\n",
      "==================================================\n",
      "dbVar ids: \n",
      "[48377627, 47178696, 46791711, 45807289, 45807279, 36885535, 24618684, 24516168, 24501143, 17814018, 17813982, 5195919, 1297001, 1028299]\n",
      "\n",
      "Search results: 14\n",
      "\n"
     ]
    }
   ],
   "source": [
    "### Creating query \n",
    "inversion = []\n",
    "inversion_esearch = eclient.esearch(db='dbVar',\n",
    "            term='DPP9[All Fields] AND (\"Homo sapiens\"[Organism] AND \"inversion\"[Variant Type])')\n",
    "print(\"\\nLoading currently available ids from dbVar...\")\n",
    "print(\"=\"*50)\n",
    "print(\"dbVar ids: \")\n",
    "print(inversion_esearch.ids)\n",
    "for item in inversion_esearch.ids:\n",
    "    inversion.append(item)\n",
    "print(\"\\nSearch results: {}\\n\".format(inversion_esearch.count))"
   ]
  },
  {
   "cell_type": "code",
   "execution_count": null,
   "metadata": {},
   "outputs": [],
   "source": [
    "### Esummary for retrieving information\n",
    "Entrez.email = \"iris.raes@hotmail.com\"\n",
    "### For each id in inversion\n",
    "### Save data to csv file\n",
    "with open('results-inversion-dbVar.csv', mode='w') as result_inversion:\n",
    "    result_writer = csv.writer(result_inversion,delimiter=';')\n",
    "    result_writer.writerow([\"inversion_variant_id\",\"variant_region_id\",\"type\",\"study_ID\",\"Chr_1\",\"assembly1\",\"Chr_2\",\"assembly2\"])\n",
    "    counter = 1\n",
    "    for ids in inversion:\n",
    "        handle = Entrez.esummary(db=\"dbVar\", id=ids)\n",
    "        record = Entrez.read(handle)\n",
    "        handle.close()\n",
    "        varregid = record['DocumentSummarySet']['DocumentSummary'][0].get('SV')\n",
    "        types = record['DocumentSummarySet']['DocumentSummary'][0].get('dbVarVariantTypeList')\n",
    "        studyid = record['DocumentSummarySet']['DocumentSummary'][0].get('ST')\n",
    "        if record['DocumentSummarySet']['DocumentSummary'][0]['dbVarRemappedAssemblyList'] != []:\n",
    "            assembly1 = record['DocumentSummarySet']['DocumentSummary'][0]['dbVarRemappedAssemblyList'][0]\n",
    "            assembly2 = record['DocumentSummarySet']['DocumentSummary'][0]['dbVarRemappedAssemblyList'][0]\n",
    "        ### Write info to csv file, row by row\n",
    "        result_writer.writerow([ids,varregid,types,studyid,\"Chr19\",assembly1,\"Chr19\",assembly2])\n",
    "        ###\n",
    "        counter += 1\n",
    "### Close csv file\n",
    "result_inversion.close()"
   ]
  },
  {
   "cell_type": "markdown",
   "metadata": {},
   "source": [
    "#### 5) dbVar Search -  Short Tandem Repeats in Human (seems to be less important)"
   ]
  },
  {
   "cell_type": "code",
   "execution_count": 9,
   "metadata": {},
   "outputs": [
    {
     "name": "stdout",
     "output_type": "stream",
     "text": [
      "\n",
      "Loading currently available ids from dbVar...\n",
      "==================================================\n",
      "dbVar ids: \n",
      "[35728959, 35728956, 35728945, 35728942, 35728939, 35728922, 35728913, 35728902, 35728888, 35728883, 35728872, 35728679, 35728652, 35728650, 35728640, 35728610, 35728601, 35728076, 35727391, 35727380, 35727364, 35727355, 35727352, 35727332, 35727324, 35726686, 35726677, 35726669, 35726663, 35726639, 30349921]\n",
      "\n",
      "Search results: 31\n",
      "\n"
     ]
    }
   ],
   "source": [
    "### Creating query \n",
    "STR = []\n",
    "STR_esearch = eclient.esearch(db='dbVar',\n",
    "            term='DPP9[All Fields] AND (\"Homo sapiens\"[Organism] AND \"short tandem repeat\"[Variant Type])')\n",
    "print(\"\\nLoading currently available ids from dbVar...\")\n",
    "print(\"=\"*50)\n",
    "print(\"dbVar ids: \")\n",
    "print(STR_esearch.ids)\n",
    "for item in STR_esearch.ids:\n",
    "    STR.append(item)\n",
    "print(\"\\nSearch results: {}\\n\".format(STR_esearch.count))"
   ]
  },
  {
   "cell_type": "code",
   "execution_count": null,
   "metadata": {},
   "outputs": [],
   "source": [
    "### Esummary for retrieving information\n",
    "Entrez.email = \"iris.raes@hotmail.com\"\n",
    "### For each id in STR\n",
    "### Save data to csv file\n",
    "with open('results-STR-dbVar.csv', mode='w') as result_STR:\n",
    "    result_writer = csv.writer(result_STR,delimiter=';')\n",
    "    result_writer.writerow([\"STR_variant_id\",\"variant_region_id\",\"type\",\"study_ID\",\"Chr_1\",\"assembly1\",\"Chr_2\",\"assembly2\"])\n",
    "    counter = 1\n",
    "    for ids in STR:\n",
    "        handle = Entrez.esummary(db=\"dbVar\", id=ids)\n",
    "        record = Entrez.read(handle)\n",
    "        handle.close()\n",
    "        varregid = record['DocumentSummarySet']['DocumentSummary'][0].get('SV')\n",
    "        types = record['DocumentSummarySet']['DocumentSummary'][0].get('dbVarVariantTypeList')\n",
    "        studyid = record['DocumentSummarySet']['DocumentSummary'][0].get('ST')\n",
    "        if record['DocumentSummarySet']['DocumentSummary'][0]['dbVarPlacementList'] != []:\n",
    "            Chr_1 = record['DocumentSummarySet']['DocumentSummary'][0]['dbVarPlacementList'][0].get('Chr')\n",
    "            assembly1 = record['DocumentSummarySet']['DocumentSummary'][0]['dbVarPlacementList'][0].get('Assembly')\n",
    "            start1 = record['DocumentSummarySet']['DocumentSummary'][0]['dbVarPlacementList'][0].get('Chr_start')\n",
    "            end1 = record['DocumentSummarySet']['DocumentSummary'][0]['dbVarPlacementList'][0].get('Chr_end')\n",
    "            Chr_2 = record['DocumentSummarySet']['DocumentSummary'][0]['dbVarPlacementList'][1].get('Chr')\n",
    "            assembly2 = record['DocumentSummarySet']['DocumentSummary'][0]['dbVarPlacementList'][1].get('Assembly')\n",
    "            start2 = record['DocumentSummarySet']['DocumentSummary'][0]['dbVarPlacementList'][1].get('Chr_start')\n",
    "            end2 = record['DocumentSummarySet']['DocumentSummary'][0]['dbVarPlacementList'][1].get('Chr_end')\n",
    "        ### Write info to csv file, row by row\n",
    "        result_writer.writerow([ids,varregid,types,studyid,Chr_1,assembly1+\":\"+start1+\"-\"+end1,Chr_2,assembly2+\":\"+start2+\"-\"+end2])\n",
    "        ###\n",
    "        counter += 1\n",
    "### Close csv file\n",
    "result_STR.close()"
   ]
  },
  {
   "cell_type": "markdown",
   "metadata": {},
   "source": [
    "#### 6) ClinVar Search -  Genetic Variations  in Human"
   ]
  },
  {
   "cell_type": "code",
   "execution_count": 10,
   "metadata": {},
   "outputs": [
    {
     "name": "stdout",
     "output_type": "stream",
     "text": [
      "\n",
      "Loading currently available ids from ClinVar...\n",
      "==================================================\n",
      "\n",
      "ClinVar ids: \n",
      "[788833, 779179, 778595, 769947, 717743, 713315, 615908]\n",
      "\n",
      "Search results: 7\n",
      "\n"
     ]
    }
   ],
   "source": [
    "### Creating query \n",
    "ClinVar = []\n",
    "ClinVar_esearch = eclient.esearch(db='ClinVar',\n",
    "            term='DPP9[gene] AND \"Single gene\"')\n",
    "print(\"\\nLoading currently available ids from ClinVar...\")\n",
    "print(\"=\"*50)\n",
    "print(\"\\nClinVar ids: \")\n",
    "print(ClinVar_esearch.ids)\n",
    "for item in ClinVar_esearch.ids:\n",
    "    ClinVar.append(item)\n",
    "print(\"\\nSearch results: {}\\n\".format(ClinVar_esearch.count))"
   ]
  },
  {
   "cell_type": "code",
   "execution_count": null,
   "metadata": {},
   "outputs": [],
   "source": [
    "### Esummary for retrieving information\n",
    "Entrez.email = \"iris.raes@hotmail.com\"\n",
    "### For each id in ClinVar\n",
    "### Save data to csv file\n",
    "with open('results-ClinVar.csv', mode='w') as result_ClinVar:\n",
    "    result_writer = csv.writer(result_ClinVar,delimiter=';')\n",
    "    result_writer.writerow([\"ClinVar_variant_id\",\"title\",\"accession\",\"type\",\"description\",\"protein_change\",\"Chr_1\",\"assembly1\",\"Chr_2\",\"assembly2\",\"source_id\"])\n",
    "    counter = 1\n",
    "    for ids in ClinVar:\n",
    "        handle = Entrez.esummary(db=\"ClinVar\", id=ids)\n",
    "        record = Entrez.read(handle)\n",
    "        handle.close()\n",
    "        title = record['DocumentSummarySet']['DocumentSummary'][0].get('title')\n",
    "        accession = record['DocumentSummarySet']['DocumentSummary'][0].get('accession_version')\n",
    "        types = record['DocumentSummarySet']['DocumentSummary'][0].get('obj_type')\n",
    "        description = record['DocumentSummarySet']['DocumentSummary'][0]['clinical_significance'].get('description')\n",
    "        protein_change = record['DocumentSummarySet']['DocumentSummary'][0].get('protein_change')\n",
    "        if record['DocumentSummarySet']['DocumentSummary'][0]['variation_set'][0]['variation_loc'] != []:\n",
    "            Chr_1 = record['DocumentSummarySet']['DocumentSummary'][0]['variation_set'][0]['variation_loc'][0].get('chr')\n",
    "            assembly1 = record['DocumentSummarySet']['DocumentSummary'][0]['variation_set'][0]['variation_loc'][0].get('assembly_name')\n",
    "            start1 = record['DocumentSummarySet']['DocumentSummary'][0]['variation_set'][0]['variation_loc'][0].get('start')\n",
    "            end1 = record['DocumentSummarySet']['DocumentSummary'][0]['variation_set'][0]['variation_loc'][0].get('stop')\n",
    "            if record['DocumentSummarySet']['DocumentSummary'][0]['variation_set'][0].get('variation_loc') != []:\n",
    "                try:\n",
    "                    Chr_2 = record['DocumentSummarySet']['DocumentSummary'][0]['variation_set'][0]['variation_loc'][1].get('chr')\n",
    "                    assembly2 = record['DocumentSummarySet']['DocumentSummary'][0]['variation_set'][0]['variation_loc'][1].get('assembly_name')\n",
    "                    start2 = record['DocumentSummarySet']['DocumentSummary'][0]['variation_set'][0]['variation_loc'][1].get('start')\n",
    "                    end2 = record['DocumentSummarySet']['DocumentSummary'][0]['variation_set'][0]['variation_loc'][1].get('stop')\n",
    "                except:\n",
    "                    assembly2 = \"not applicable\"\n",
    "                    start2 = \"X\"\n",
    "                    end2 = \"X\"\n",
    "        if record['DocumentSummarySet']['DocumentSummary'][0]['trait_set'] != []:\n",
    "            dbsource = record['DocumentSummarySet']['DocumentSummary'][0]['trait_set'][0]['trait_xrefs'][0]['db_source']\n",
    "            dbid = record['DocumentSummarySet']['DocumentSummary'][0]['trait_set'][0]['trait_xrefs'][0]['db_id']\n",
    "        ### Write info to csv file, row by row\n",
    "        result_writer.writerow([ids,title,accession,types,description,protein_change,Chr_1,assembly1+\":\"+start1+\"-\"+end1,Chr_2,assembly2+\":\"+start2+\"-\"+end2,dbsource+\" (\"+dbid+\")\"])\n",
    "        ###\n",
    "        counter += 1\n",
    "### Close csv file\n",
    "result_ClinVar.close()"
   ]
  }
 ],
 "metadata": {
  "kernelspec": {
   "display_name": "Python 3",
   "language": "python",
   "name": "python3"
  },
  "language_info": {
   "codemirror_mode": {
    "name": "ipython",
    "version": 3
   },
   "file_extension": ".py",
   "mimetype": "text/x-python",
   "name": "python",
   "nbconvert_exporter": "python",
   "pygments_lexer": "ipython3",
   "version": "3.7.6"
  }
 },
 "nbformat": 4,
 "nbformat_minor": 4
}
